{
 "cells": [
  {
   "cell_type": "code",
   "execution_count": null,
   "metadata": {},
   "outputs": [],
   "source": [
    "#! python -m spacy download pt_core_news_sm en_core_news_sm\n",
    "! pip install -r ../../requirements.txt"
   ]
  },
  {
   "cell_type": "code",
   "execution_count": 1,
   "metadata": {},
   "outputs": [],
   "source": [
    "import sys\n",
    "import os\n",
    "project_path = os.path.abspath(os.path.join(os.getcwd(), '..'))\n",
    "sys.path.append(project_path)"
   ]
  },
  {
   "cell_type": "code",
   "execution_count": 2,
   "metadata": {},
   "outputs": [],
   "source": [
    "from book_utils import epub_to_csv\n",
    "from book_kg import book_analysis, occurences_graph\n",
    "import pandas as pd\n",
    "import spacy\n",
    "import ipycytoscape\n"
   ]
  },
  {
   "cell_type": "code",
   "execution_count": null,
   "metadata": {},
   "outputs": [],
   "source": [
    "nlp = spacy.load('pt_core_news_sm')\n",
    "epub_file = '../../resources/historia_da_arte.epub'\n",
    "csv_file = '../../resources/historia_da_arte.csv'\n",
    "epub_to_csv(csv_file=csv_file, epub_file=epub_file)\n",
    "book = pd.read_csv(csv_file)\n",
    "book = book[5:33]"
   ]
  },
  {
   "cell_type": "code",
   "execution_count": null,
   "metadata": {},
   "outputs": [],
   "source": [
    "analysis = book_analysis(book, model=nlp, excluded_words=[\"Fig\", \"c\"])"
   ]
  },
  {
   "cell_type": "code",
   "execution_count": 73,
   "metadata": {},
   "outputs": [],
   "source": [
    "co_occurences = pd.concat(analysis[\"cooccurrences\"].values)\n",
    "co_occurences = co_occurences.query(\"chapter == '15'\")\n",
    "co_occurences = co_occurences.head(50)\n",
    "co_ocurrences_graph = occurences_graph(co_occurences)\n"
   ]
  },
  {
   "cell_type": "code",
   "execution_count": 74,
   "metadata": {},
   "outputs": [
    {
     "data": {
      "application/vnd.jupyter.widget-view+json": {
       "model_id": "351a48f5125e40a6bc4e167fc75b4db6",
       "version_major": 2,
       "version_minor": 0
      },
      "text/plain": [
       "CytoscapeWidget(cytoscape_layout={'name': 'cola'}, cytoscape_style=[{'selector': 'node', 'css': {'background-c…"
      ]
     },
     "execution_count": 74,
     "metadata": {},
     "output_type": "execute_result"
    }
   ],
   "source": [
    "ipycytoscape_obj = ipycytoscape.CytoscapeWidget()\n",
    "ipycytoscape_obj.graph.add_graph_from_json(co_ocurrences_graph, directed=True)\n",
    "ipycytoscape_obj.set_style([{\n",
    "                        'selector': 'node',\n",
    "                        'css': {\n",
    "                            'background-color': '',\n",
    "                            'content': 'data(label)',\n",
    "                            'text-valign': 'center',\n",
    "                            'color': 'black',\n",
    "\n",
    "                            }\n",
    "                        },\n",
    "                        {\n",
    "                            'selector': 'edge',\n",
    "                            'style': {\n",
    "                                'width': 4,\n",
    "                                'line-color': '#9dbaea',\n",
    "                                'target-arrow-shape': 'triangle',\n",
    "                                'target-arrow-color': '#9dbaea',\n",
    "                                'curve-style': 'bezier'\n",
    "                            }\n",
    "                        }])\n",
    "ipycytoscape_obj"
   ]
  }
 ],
 "metadata": {
  "kernelspec": {
   "display_name": ".venv",
   "language": "python",
   "name": "python3"
  },
  "language_info": {
   "codemirror_mode": {
    "name": "ipython",
    "version": 3
   },
   "file_extension": ".py",
   "mimetype": "text/x-python",
   "name": "python",
   "nbconvert_exporter": "python",
   "pygments_lexer": "ipython3",
   "version": "3.10.0"
  }
 },
 "nbformat": 4,
 "nbformat_minor": 2
}
