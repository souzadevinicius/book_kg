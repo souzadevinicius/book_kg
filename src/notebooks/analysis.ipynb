{
 "cells": [
  {
   "cell_type": "code",
   "execution_count": null,
   "metadata": {},
   "outputs": [],
   "source": [
    "#! python -m spacy download pt_core_news_sm en_core_news_sm\n",
    "! pip install -r ../../requirements.txt"
   ]
  },
  {
   "cell_type": "code",
   "execution_count": 1,
   "metadata": {},
   "outputs": [],
   "source": [
    "import sys\n",
    "import os\n",
    "project_path = os.path.abspath(os.path.join(os.getcwd(), '..'))\n",
    "sys.path.append(project_path)"
   ]
  },
  {
   "cell_type": "code",
   "execution_count": 2,
   "metadata": {},
   "outputs": [],
   "source": [
    "from book_utils import epub_to_csv\n",
    "from book_kg import book_analysis, occurences_graph\n",
    "import pandas as pd\n",
    "import spacy\n",
    "import ipycytoscape\n"
   ]
  },
  {
   "cell_type": "code",
   "execution_count": null,
   "metadata": {},
   "outputs": [],
   "source": [
    "nlp = spacy.load('pt_core_news_sm')\n",
    "epub_file = '../../resources/historia_da_arte.epub'\n",
    "csv_file = '../../resources/historia_da_arte.csv'\n",
    "epub_to_csv(csv_file=csv_file, epub_file=epub_file)\n",
    "book = pd.read_csv(csv_file)\n",
    "book = book[5:33]"
   ]
  },
  {
   "cell_type": "code",
   "execution_count": 70,
   "metadata": {},
   "outputs": [
    {
     "name": "stdout",
     "output_type": "stream",
     "text": [
      "cap 16 2024-08-26 17:12:58\n",
      "combos length: 1023\n",
      "cap 17 2024-08-26 17:13:01\n",
      "combos length: 1240\n",
      "cap 18 2024-08-26 17:13:07\n",
      "combos length: 2712\n",
      "cap 19 2024-08-26 17:13:22\n",
      "combos length: 2997\n",
      "cap 20 2024-08-26 17:13:41\n",
      "combos length: 1134\n",
      "cap 21 2024-08-26 17:13:46\n",
      "combos length: 621\n",
      "cap 22 2024-08-26 17:13:48\n",
      "combos length: 315\n",
      "cap 23 2024-08-26 17:13:49\n",
      "combos length: 1958\n",
      "cap 24 2024-08-26 17:13:57\n",
      "combos length: 1849\n",
      "cap 25 2024-08-26 17:14:09\n",
      "combos length: 4726\n",
      "cap 26 2024-08-26 17:14:55\n",
      "combos length: 1386\n",
      "cap 27 2024-08-26 17:15:03\n",
      "combos length: 4830\n"
     ]
    }
   ],
   "source": [
    "analysis = book_analysis(book, model=nlp, excluded_words=[\"Fig\", \"c\"])"
   ]
  },
  {
   "cell_type": "code",
   "execution_count": 68,
   "metadata": {},
   "outputs": [],
   "source": [
    "co_occurences = pd.concat(analysis[\"cooccurrences\"].values)\n",
    "co_occurences = co_occurences.query(\"chapter == '15'\")\n",
    "co_occurences = co_occurences.head(10)\n",
    "co_ocurrences_graph = occurences_graph(co_occurences)\n"
   ]
  },
  {
   "cell_type": "code",
   "execution_count": null,
   "metadata": {},
   "outputs": [],
   "source": [
    "ipycytoscape_obj = ipycytoscape.CytoscapeWidget()\n",
    "ipycytoscape_obj.graph.add_graph_from_json(co_ocurrences_graph, directed=True)\n",
    "ipycytoscape_obj.set_style([{\n",
    "                        'selector': 'node',\n",
    "                        'css': {\n",
    "                            'background-color': '',\n",
    "                            'content': 'data(label)',\n",
    "                            'text-valign': 'center',\n",
    "                            'color': 'black',\n",
    "\n",
    "                            }\n",
    "                        },\n",
    "                        {\n",
    "                            'selector': 'edge',\n",
    "                            'style': {\n",
    "                                'width': 4,\n",
    "                                'line-color': '#9dbaea',\n",
    "                                'target-arrow-shape': 'triangle',\n",
    "                                'target-arrow-color': '#9dbaea',\n",
    "                                'curve-style': 'bezier'\n",
    "                            }\n",
    "                        }])\n",
    "ipycytoscape_obj"
   ]
  }
 ],
 "metadata": {
  "kernelspec": {
   "display_name": ".venv",
   "language": "python",
   "name": "python3"
  },
  "language_info": {
   "codemirror_mode": {
    "name": "ipython",
    "version": 3
   },
   "file_extension": ".py",
   "mimetype": "text/x-python",
   "name": "python",
   "nbconvert_exporter": "python",
   "pygments_lexer": "ipython3",
   "version": "3.10.0"
  }
 },
 "nbformat": 4,
 "nbformat_minor": 2
}
