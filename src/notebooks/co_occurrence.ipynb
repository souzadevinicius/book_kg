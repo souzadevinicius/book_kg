{
 "cells": [
  {
   "cell_type": "code",
   "execution_count": 1,
   "metadata": {},
   "outputs": [],
   "source": [
    "import sys\n",
    "import os\n",
    "sys.path.append(os.path.abspath(os.path.join(os.getcwd(), '..')))"
   ]
  },
  {
   "cell_type": "code",
   "execution_count": 2,
   "metadata": {},
   "outputs": [],
   "source": [
    "import pandas as pd\n",
    "import spacy\n",
    "from book_kg import book_analysis"
   ]
  },
  {
   "cell_type": "code",
   "execution_count": 3,
   "metadata": {},
   "outputs": [
    {
     "name": "stdout",
     "output_type": "stream",
     "text": [
      "   Chapter Index                                   Chapter Number  \\\n",
      "2              5  CAPÍTULO 1.   Europa clássica e Europa medieval   \n",
      "\n",
      "                                     Chapter Content  \n",
      "2  A   CIVILIZAÇÃO EUROPEIA É SINGULAR  porque é ...  \n",
      "cap CAPÍTULO 1.   Europa clássica e Europa medieval 2024-09-05 12:06:13\n"
     ]
    }
   ],
   "source": [
    "nlp = spacy.load('pt_core_news_sm')\n",
    "book = pd.read_csv('../../resources/historia_europa.csv')\n",
    "book = book.iloc[2:3]\n",
    "print(book)\n",
    "analysed_text_df = book_analysis(book=book, excluded_words=[\"c\", \"el\", \"in\", \"i\", \"or\", \"di\"], model=nlp)"
   ]
  },
  {
   "cell_type": "code",
   "execution_count": 4,
   "metadata": {},
   "outputs": [],
   "source": [
    "sum_by_chapter = analysed_text_df.groupby(['chapter', 'first_token', 'first_entity'])['importance'].sum().reset_index()\n",
    "sum_by_chapter['importance'] = sum_by_chapter['importance']"
   ]
  },
  {
   "cell_type": "code",
   "execution_count": 5,
   "metadata": {},
   "outputs": [],
   "source": [
    "sum_by_chapter2 = analysed_text_df.groupby(['chapter', 'first_token', 'first_entity', 'second_token', 'second_entity'])['importance'].sum().reset_index()\n",
    "sum_by_chapter2['importance'] = sum_by_chapter2['importance']"
   ]
  }
 ],
 "metadata": {
  "kernelspec": {
   "display_name": ".venv",
   "language": "python",
   "name": "python3"
  },
  "language_info": {
   "codemirror_mode": {
    "name": "ipython",
    "version": 3
   },
   "file_extension": ".py",
   "mimetype": "text/x-python",
   "name": "python",
   "nbconvert_exporter": "python",
   "pygments_lexer": "ipython3",
   "version": "3.10.0"
  }
 },
 "nbformat": 4,
 "nbformat_minor": 2
}
